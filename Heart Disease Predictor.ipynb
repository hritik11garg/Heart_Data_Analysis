{
 "cells": [
  {
   "cell_type": "code",
   "execution_count": 1,
   "id": "124c12a9",
   "metadata": {},
   "outputs": [
    {
     "name": "stderr",
     "output_type": "stream",
     "text": [
      "C:\\Users\\gargh\\anaconda3\\lib\\site-packages\\scipy\\__init__.py:146: UserWarning: A NumPy version >=1.16.5 and <1.23.0 is required for this version of SciPy (detected version 1.26.1\n",
      "  warnings.warn(f\"A NumPy version >={np_minversion} and <{np_maxversion}\"\n"
     ]
    }
   ],
   "source": [
    "#Importing necessary libraries\n",
    "import numpy as np\n",
    "import pandas as pd\n",
    "import matplotlib.pyplot as plt\n",
    "\n",
    "from sklearn.model_selection import train_test_split, RandomizedSearchCV\n",
    "from sklearn.preprocessing import StandardScaler\n",
    "from sklearn.neighbors import KNeighborsClassifier\n",
    "from sklearn.svm import SVC\n",
    "from sklearn.tree import DecisionTreeClassifier\n",
    "from sklearn.ensemble import RandomForestClassifier, GradientBoostingClassifier"
   ]
  },
  {
   "cell_type": "code",
   "execution_count": 2,
   "id": "b43bb70d",
   "metadata": {},
   "outputs": [
    {
     "name": "stdout",
     "output_type": "stream",
     "text": [
      "<class 'pandas.core.frame.DataFrame'>\n",
      "RangeIndex: 303 entries, 0 to 302\n",
      "Data columns (total 14 columns):\n",
      " #   Column    Non-Null Count  Dtype  \n",
      "---  ------    --------------  -----  \n",
      " 0   age       303 non-null    int64  \n",
      " 1   sex       303 non-null    int64  \n",
      " 2   cp        303 non-null    int64  \n",
      " 3   trestbps  303 non-null    int64  \n",
      " 4   chol      303 non-null    int64  \n",
      " 5   fbs       303 non-null    int64  \n",
      " 6   restecg   303 non-null    int64  \n",
      " 7   thalach   303 non-null    int64  \n",
      " 8   exang     303 non-null    int64  \n",
      " 9   oldpeak   303 non-null    float64\n",
      " 10  slope     303 non-null    int64  \n",
      " 11  ca        303 non-null    int64  \n",
      " 12  thal      303 non-null    int64  \n",
      " 13  target    303 non-null    int64  \n",
      "dtypes: float64(1), int64(13)\n",
      "memory usage: 33.3 KB\n"
     ]
    }
   ],
   "source": [
    "#Importing the csv file\n",
    "dataset = pd.read_csv('heart.csv')\n",
    "dataset.info()"
   ]
  },
  {
   "cell_type": "code",
   "execution_count": 3,
   "id": "abd81157",
   "metadata": {},
   "outputs": [],
   "source": [
    "#Filtering the data by doing One Hot encoding and transforming\n",
    "dataset = pd.get_dummies(dataset,columns = ['sex','cp','fbs','restecg','exang','slope','ca','thal'])\n",
    "standarScaler = StandardScaler()\n",
    "columns_to_scale = ['age','trestbps','chol','thalach','oldpeak']\n",
    "dataset[columns_to_scale] = standarScaler.fit_transform(dataset[columns_to_scale])"
   ]
  },
  {
   "cell_type": "code",
   "execution_count": 4,
   "id": "da8b31b7",
   "metadata": {},
   "outputs": [
    {
     "data": {
      "text/html": [
       "<div>\n",
       "<style scoped>\n",
       "    .dataframe tbody tr th:only-of-type {\n",
       "        vertical-align: middle;\n",
       "    }\n",
       "\n",
       "    .dataframe tbody tr th {\n",
       "        vertical-align: top;\n",
       "    }\n",
       "\n",
       "    .dataframe thead th {\n",
       "        text-align: right;\n",
       "    }\n",
       "</style>\n",
       "<table border=\"1\" class=\"dataframe\">\n",
       "  <thead>\n",
       "    <tr style=\"text-align: right;\">\n",
       "      <th></th>\n",
       "      <th>age</th>\n",
       "      <th>trestbps</th>\n",
       "      <th>chol</th>\n",
       "      <th>thalach</th>\n",
       "      <th>oldpeak</th>\n",
       "      <th>target</th>\n",
       "      <th>sex_0</th>\n",
       "      <th>sex_1</th>\n",
       "      <th>cp_0</th>\n",
       "      <th>cp_1</th>\n",
       "      <th>...</th>\n",
       "      <th>slope_2</th>\n",
       "      <th>ca_0</th>\n",
       "      <th>ca_1</th>\n",
       "      <th>ca_2</th>\n",
       "      <th>ca_3</th>\n",
       "      <th>ca_4</th>\n",
       "      <th>thal_0</th>\n",
       "      <th>thal_1</th>\n",
       "      <th>thal_2</th>\n",
       "      <th>thal_3</th>\n",
       "    </tr>\n",
       "  </thead>\n",
       "  <tbody>\n",
       "    <tr>\n",
       "      <th>0</th>\n",
       "      <td>0.952197</td>\n",
       "      <td>0.763956</td>\n",
       "      <td>-0.256334</td>\n",
       "      <td>0.015443</td>\n",
       "      <td>1.087338</td>\n",
       "      <td>1</td>\n",
       "      <td>0</td>\n",
       "      <td>1</td>\n",
       "      <td>0</td>\n",
       "      <td>0</td>\n",
       "      <td>...</td>\n",
       "      <td>0</td>\n",
       "      <td>1</td>\n",
       "      <td>0</td>\n",
       "      <td>0</td>\n",
       "      <td>0</td>\n",
       "      <td>0</td>\n",
       "      <td>0</td>\n",
       "      <td>1</td>\n",
       "      <td>0</td>\n",
       "      <td>0</td>\n",
       "    </tr>\n",
       "    <tr>\n",
       "      <th>1</th>\n",
       "      <td>-1.915313</td>\n",
       "      <td>-0.092738</td>\n",
       "      <td>0.072199</td>\n",
       "      <td>1.633471</td>\n",
       "      <td>2.122573</td>\n",
       "      <td>1</td>\n",
       "      <td>0</td>\n",
       "      <td>1</td>\n",
       "      <td>0</td>\n",
       "      <td>0</td>\n",
       "      <td>...</td>\n",
       "      <td>0</td>\n",
       "      <td>1</td>\n",
       "      <td>0</td>\n",
       "      <td>0</td>\n",
       "      <td>0</td>\n",
       "      <td>0</td>\n",
       "      <td>0</td>\n",
       "      <td>0</td>\n",
       "      <td>1</td>\n",
       "      <td>0</td>\n",
       "    </tr>\n",
       "    <tr>\n",
       "      <th>2</th>\n",
       "      <td>-1.474158</td>\n",
       "      <td>-0.092738</td>\n",
       "      <td>-0.816773</td>\n",
       "      <td>0.977514</td>\n",
       "      <td>0.310912</td>\n",
       "      <td>1</td>\n",
       "      <td>1</td>\n",
       "      <td>0</td>\n",
       "      <td>0</td>\n",
       "      <td>1</td>\n",
       "      <td>...</td>\n",
       "      <td>1</td>\n",
       "      <td>1</td>\n",
       "      <td>0</td>\n",
       "      <td>0</td>\n",
       "      <td>0</td>\n",
       "      <td>0</td>\n",
       "      <td>0</td>\n",
       "      <td>0</td>\n",
       "      <td>1</td>\n",
       "      <td>0</td>\n",
       "    </tr>\n",
       "    <tr>\n",
       "      <th>3</th>\n",
       "      <td>0.180175</td>\n",
       "      <td>-0.663867</td>\n",
       "      <td>-0.198357</td>\n",
       "      <td>1.239897</td>\n",
       "      <td>-0.206705</td>\n",
       "      <td>1</td>\n",
       "      <td>0</td>\n",
       "      <td>1</td>\n",
       "      <td>0</td>\n",
       "      <td>1</td>\n",
       "      <td>...</td>\n",
       "      <td>1</td>\n",
       "      <td>1</td>\n",
       "      <td>0</td>\n",
       "      <td>0</td>\n",
       "      <td>0</td>\n",
       "      <td>0</td>\n",
       "      <td>0</td>\n",
       "      <td>0</td>\n",
       "      <td>1</td>\n",
       "      <td>0</td>\n",
       "    </tr>\n",
       "    <tr>\n",
       "      <th>4</th>\n",
       "      <td>0.290464</td>\n",
       "      <td>-0.663867</td>\n",
       "      <td>2.082050</td>\n",
       "      <td>0.583939</td>\n",
       "      <td>-0.379244</td>\n",
       "      <td>1</td>\n",
       "      <td>1</td>\n",
       "      <td>0</td>\n",
       "      <td>1</td>\n",
       "      <td>0</td>\n",
       "      <td>...</td>\n",
       "      <td>1</td>\n",
       "      <td>1</td>\n",
       "      <td>0</td>\n",
       "      <td>0</td>\n",
       "      <td>0</td>\n",
       "      <td>0</td>\n",
       "      <td>0</td>\n",
       "      <td>0</td>\n",
       "      <td>1</td>\n",
       "      <td>0</td>\n",
       "    </tr>\n",
       "    <tr>\n",
       "      <th>...</th>\n",
       "      <td>...</td>\n",
       "      <td>...</td>\n",
       "      <td>...</td>\n",
       "      <td>...</td>\n",
       "      <td>...</td>\n",
       "      <td>...</td>\n",
       "      <td>...</td>\n",
       "      <td>...</td>\n",
       "      <td>...</td>\n",
       "      <td>...</td>\n",
       "      <td>...</td>\n",
       "      <td>...</td>\n",
       "      <td>...</td>\n",
       "      <td>...</td>\n",
       "      <td>...</td>\n",
       "      <td>...</td>\n",
       "      <td>...</td>\n",
       "      <td>...</td>\n",
       "      <td>...</td>\n",
       "      <td>...</td>\n",
       "      <td>...</td>\n",
       "    </tr>\n",
       "    <tr>\n",
       "      <th>298</th>\n",
       "      <td>0.290464</td>\n",
       "      <td>0.478391</td>\n",
       "      <td>-0.101730</td>\n",
       "      <td>-1.165281</td>\n",
       "      <td>-0.724323</td>\n",
       "      <td>0</td>\n",
       "      <td>1</td>\n",
       "      <td>0</td>\n",
       "      <td>1</td>\n",
       "      <td>0</td>\n",
       "      <td>...</td>\n",
       "      <td>0</td>\n",
       "      <td>1</td>\n",
       "      <td>0</td>\n",
       "      <td>0</td>\n",
       "      <td>0</td>\n",
       "      <td>0</td>\n",
       "      <td>0</td>\n",
       "      <td>0</td>\n",
       "      <td>0</td>\n",
       "      <td>1</td>\n",
       "    </tr>\n",
       "    <tr>\n",
       "      <th>299</th>\n",
       "      <td>-1.033002</td>\n",
       "      <td>-1.234996</td>\n",
       "      <td>0.342756</td>\n",
       "      <td>-0.771706</td>\n",
       "      <td>0.138373</td>\n",
       "      <td>0</td>\n",
       "      <td>0</td>\n",
       "      <td>1</td>\n",
       "      <td>0</td>\n",
       "      <td>0</td>\n",
       "      <td>...</td>\n",
       "      <td>0</td>\n",
       "      <td>1</td>\n",
       "      <td>0</td>\n",
       "      <td>0</td>\n",
       "      <td>0</td>\n",
       "      <td>0</td>\n",
       "      <td>0</td>\n",
       "      <td>0</td>\n",
       "      <td>0</td>\n",
       "      <td>1</td>\n",
       "    </tr>\n",
       "    <tr>\n",
       "      <th>300</th>\n",
       "      <td>1.503641</td>\n",
       "      <td>0.706843</td>\n",
       "      <td>-1.029353</td>\n",
       "      <td>-0.378132</td>\n",
       "      <td>2.036303</td>\n",
       "      <td>0</td>\n",
       "      <td>0</td>\n",
       "      <td>1</td>\n",
       "      <td>1</td>\n",
       "      <td>0</td>\n",
       "      <td>...</td>\n",
       "      <td>0</td>\n",
       "      <td>0</td>\n",
       "      <td>0</td>\n",
       "      <td>1</td>\n",
       "      <td>0</td>\n",
       "      <td>0</td>\n",
       "      <td>0</td>\n",
       "      <td>0</td>\n",
       "      <td>0</td>\n",
       "      <td>1</td>\n",
       "    </tr>\n",
       "    <tr>\n",
       "      <th>301</th>\n",
       "      <td>0.290464</td>\n",
       "      <td>-0.092738</td>\n",
       "      <td>-2.227533</td>\n",
       "      <td>-1.515125</td>\n",
       "      <td>0.138373</td>\n",
       "      <td>0</td>\n",
       "      <td>0</td>\n",
       "      <td>1</td>\n",
       "      <td>1</td>\n",
       "      <td>0</td>\n",
       "      <td>...</td>\n",
       "      <td>0</td>\n",
       "      <td>0</td>\n",
       "      <td>1</td>\n",
       "      <td>0</td>\n",
       "      <td>0</td>\n",
       "      <td>0</td>\n",
       "      <td>0</td>\n",
       "      <td>0</td>\n",
       "      <td>0</td>\n",
       "      <td>1</td>\n",
       "    </tr>\n",
       "    <tr>\n",
       "      <th>302</th>\n",
       "      <td>0.290464</td>\n",
       "      <td>-0.092738</td>\n",
       "      <td>-0.198357</td>\n",
       "      <td>1.064975</td>\n",
       "      <td>-0.896862</td>\n",
       "      <td>0</td>\n",
       "      <td>1</td>\n",
       "      <td>0</td>\n",
       "      <td>0</td>\n",
       "      <td>1</td>\n",
       "      <td>...</td>\n",
       "      <td>0</td>\n",
       "      <td>0</td>\n",
       "      <td>1</td>\n",
       "      <td>0</td>\n",
       "      <td>0</td>\n",
       "      <td>0</td>\n",
       "      <td>0</td>\n",
       "      <td>0</td>\n",
       "      <td>1</td>\n",
       "      <td>0</td>\n",
       "    </tr>\n",
       "  </tbody>\n",
       "</table>\n",
       "<p>303 rows × 31 columns</p>\n",
       "</div>"
      ],
      "text/plain": [
       "          age  trestbps      chol   thalach   oldpeak  target  sex_0  sex_1  \\\n",
       "0    0.952197  0.763956 -0.256334  0.015443  1.087338       1      0      1   \n",
       "1   -1.915313 -0.092738  0.072199  1.633471  2.122573       1      0      1   \n",
       "2   -1.474158 -0.092738 -0.816773  0.977514  0.310912       1      1      0   \n",
       "3    0.180175 -0.663867 -0.198357  1.239897 -0.206705       1      0      1   \n",
       "4    0.290464 -0.663867  2.082050  0.583939 -0.379244       1      1      0   \n",
       "..        ...       ...       ...       ...       ...     ...    ...    ...   \n",
       "298  0.290464  0.478391 -0.101730 -1.165281 -0.724323       0      1      0   \n",
       "299 -1.033002 -1.234996  0.342756 -0.771706  0.138373       0      0      1   \n",
       "300  1.503641  0.706843 -1.029353 -0.378132  2.036303       0      0      1   \n",
       "301  0.290464 -0.092738 -2.227533 -1.515125  0.138373       0      0      1   \n",
       "302  0.290464 -0.092738 -0.198357  1.064975 -0.896862       0      1      0   \n",
       "\n",
       "     cp_0  cp_1  ...  slope_2  ca_0  ca_1  ca_2  ca_3  ca_4  thal_0  thal_1  \\\n",
       "0       0     0  ...        0     1     0     0     0     0       0       1   \n",
       "1       0     0  ...        0     1     0     0     0     0       0       0   \n",
       "2       0     1  ...        1     1     0     0     0     0       0       0   \n",
       "3       0     1  ...        1     1     0     0     0     0       0       0   \n",
       "4       1     0  ...        1     1     0     0     0     0       0       0   \n",
       "..    ...   ...  ...      ...   ...   ...   ...   ...   ...     ...     ...   \n",
       "298     1     0  ...        0     1     0     0     0     0       0       0   \n",
       "299     0     0  ...        0     1     0     0     0     0       0       0   \n",
       "300     1     0  ...        0     0     0     1     0     0       0       0   \n",
       "301     1     0  ...        0     0     1     0     0     0       0       0   \n",
       "302     0     1  ...        0     0     1     0     0     0       0       0   \n",
       "\n",
       "     thal_2  thal_3  \n",
       "0         0       0  \n",
       "1         1       0  \n",
       "2         1       0  \n",
       "3         1       0  \n",
       "4         1       0  \n",
       "..      ...     ...  \n",
       "298       0       1  \n",
       "299       0       1  \n",
       "300       0       1  \n",
       "301       0       1  \n",
       "302       1       0  \n",
       "\n",
       "[303 rows x 31 columns]"
      ]
     },
     "execution_count": 4,
     "metadata": {},
     "output_type": "execute_result"
    }
   ],
   "source": [
    "dataset"
   ]
  },
  {
   "cell_type": "code",
   "execution_count": 5,
   "id": "b91cd761",
   "metadata": {},
   "outputs": [],
   "source": [
    "#Splitting the data in train and test\n",
    "y = dataset['target']\n",
    "X = dataset.drop(['target'],axis = 1)\n",
    "X_train, X_test, y_train, y_test = train_test_split(X,y,test_size = 0.2, random_state=42)"
   ]
  },
  {
   "cell_type": "code",
   "execution_count": 6,
   "id": "0657c6da",
   "metadata": {},
   "outputs": [
    {
     "name": "stdout",
     "output_type": "stream",
     "text": [
      "Best Choice of k: 8\n"
     ]
    }
   ],
   "source": [
    "#calculating best values for knn classifier\n",
    "knn_scores = []\n",
    "for k in range(1,40):\n",
    "    knn_classifier = KNeighborsClassifier(n_neighbors=k)\n",
    "    knn_classifier.fit(X_train,y_train)\n",
    "    knn_scores.append(knn_classifier.score(X_test,y_test))\n",
    "print(f'Best Choice of k: {np.argmax(knn_scores)+1}')"
   ]
  },
  {
   "cell_type": "code",
   "execution_count": 7,
   "id": "e6006347",
   "metadata": {},
   "outputs": [
    {
     "name": "stdout",
     "output_type": "stream",
     "text": [
      "Accurace = 0.9180327868852459\n"
     ]
    }
   ],
   "source": [
    "#since we have 8 as best K value we are going to train noe with k = 8\n",
    "k = 8\n",
    "knn_classifier = KNeighborsClassifier(n_neighbors = k)\n",
    "knn_classifier.fit(X_train,y_train)\n",
    "y_pred = knn_classifier.predict(X_test)\n",
    "print(f'Accurace = {np.sum(y_pred == y_test)/len(y_test)}')"
   ]
  },
  {
   "cell_type": "code",
   "execution_count": 8,
   "id": "0326761c",
   "metadata": {},
   "outputs": [
    {
     "name": "stdout",
     "output_type": "stream",
     "text": [
      "Best choice of c for linear: 1\n",
      "Best polynomial score: 5\n",
      "Best polynomial score: 5\n",
      "Best polynomial score: 6\n",
      "Best polynomial score: 3\n",
      "Best polynomial score: 7\n",
      "Best polynomial score: 7\n",
      "Best polynomial score: 7\n",
      "Best polynomial score: 7\n",
      "Best polynomial score: 7\n",
      "Best polynomial score: 7\n",
      "Best choice of c for poly: 1\n",
      "Best choice of c for rbf: 1\n",
      "Best choice of c for sigmoid: 1\n",
      "Best choice of k: rbf\n"
     ]
    }
   ],
   "source": [
    "#calculating best values for SVM\n",
    "svc_scores = []\n",
    "kernels = ['linear','poly','rbf','sigmoid']\n",
    "for i in range(len(kernels)):\n",
    "    svc_scores_c = []\n",
    "    for ch in range(1,11):\n",
    "        if kernels[i] == 'poly':\n",
    "            svc_scores_poly = []\n",
    "            for d in range(3,10):\n",
    "                svc_classifier = SVC(kernel = kernels[i], C = ch, degree=d)\n",
    "                svc_classifier.fit(X_train,y_train)\n",
    "                svc_scores_poly.append(svc_classifier.score(X_test,y_test))\n",
    "            print(f'Best polynomial score: {np.argmax(svc_scores_poly)+3}')\n",
    "            svc_scores_c.append(svc_scores_poly[np.argmax(svc_scores_poly)])\n",
    "        else:\n",
    "            svc_classifier = SVC(kernel=kernels[i],C=ch)\n",
    "            svc_classifier.fit(X_train,y_train)\n",
    "            svc_scores_c.append(svc_classifier.score(X_test,y_test))\n",
    "    print(f'Best choice of c for {kernels[i]}: {np.argmax(svc_scores_c)+1}')\n",
    "    svc_scores.append(svc_scores_c[np.argmax(svc_scores_c)])\n",
    "print(f'Best choice of k: {kernels[np.argmax(svc_scores)]}')"
   ]
  },
  {
   "cell_type": "markdown",
   "id": "73285d50",
   "metadata": {},
   "source": [
    "Now we know the best kernel for SVM is rbf with C value of 1"
   ]
  },
  {
   "cell_type": "code",
   "execution_count": 9,
   "id": "08497abf",
   "metadata": {},
   "outputs": [
    {
     "name": "stdout",
     "output_type": "stream",
     "text": [
      "Score is 0.9016393442622951\n"
     ]
    }
   ],
   "source": [
    "#Prediciting the score using best kernel for SVM\n",
    "svc_classifier = SVC(kernel='rbf',C=1)\n",
    "svc_classifier.fit(X_train,y_train)\n",
    "print(f'Score is {svc_classifier.score(X_test,y_test)}')"
   ]
  },
  {
   "cell_type": "code",
   "execution_count": 10,
   "id": "03a98b4e",
   "metadata": {},
   "outputs": [
    {
     "name": "stdout",
     "output_type": "stream",
     "text": [
      "Best max features for gini: 14\n",
      "Best max features for entropy: 29\n",
      "Best criterion: gini\n"
     ]
    }
   ],
   "source": [
    "#calculating best values for Decision Tree\n",
    "cr_scores = []\n",
    "for cr in ['gini','entropy']:\n",
    "    dt_scores = []\n",
    "    for i in range(1,len(X.columns)+1):\n",
    "        dt_classifier = DecisionTreeClassifier(criterion=cr,max_features=i,random_state=42)\n",
    "        dt_classifier.fit(X_train,y_train)\n",
    "        dt_scores.append(dt_classifier.score(X_test,y_test))\n",
    "    print(f'Best max features for {cr}: {np.argmax(dt_scores)+1}')\n",
    "    cr_scores.append(dt_scores[np.argmax(dt_scores)])\n",
    "print(f'Best criterion: {\"gini\" if not np.argmax(cr_scores) else \"entropy\"}')"
   ]
  },
  {
   "cell_type": "markdown",
   "id": "b80c32d6",
   "metadata": {},
   "source": [
    "    We are gonna use gini for decision tree "
   ]
  },
  {
   "cell_type": "code",
   "execution_count": 11,
   "id": "a5ebd70b",
   "metadata": {},
   "outputs": [
    {
     "name": "stdout",
     "output_type": "stream",
     "text": [
      "0.8524590163934426\n"
     ]
    }
   ],
   "source": [
    "#Prediciting the score using best criteria i.e. gini\n",
    "dt_classifier =DecisionTreeClassifier(criterion='gini',max_features=14,random_state=42)\n",
    "dt_classifier.fit(X_train,y_train)\n",
    "print(dt_classifier.score(X_test,y_test))"
   ]
  },
  {
   "cell_type": "code",
   "execution_count": 12,
   "id": "0177156d",
   "metadata": {},
   "outputs": [
    {
     "name": "stdout",
     "output_type": "stream",
     "text": [
      "Best parameters: {'n_estimators': 501}\n"
     ]
    }
   ],
   "source": [
    "# Define a range of values for the number of estimators\n",
    "rf_param_grid = {\n",
    "    'n_estimators': range(1, 1000, 10)\n",
    "}\n",
    "\n",
    "# Create a RandomForestClassifier object\n",
    "rf = RandomForestClassifier()\n",
    "\n",
    "# Create a RandomizedSearchCV object with specified parameters\n",
    "rf_random = RandomizedSearchCV(\n",
    "    param_distributions=rf_param_grid,  # Use the defined parameter grid\n",
    "    estimator=rf,                      # Use the RandomForestClassifier\n",
    "    scoring=\"accuracy\",                # Use accuracy as the scoring metric\n",
    "    verbose=0,                         # Set verbosity level to 0 (no output during fitting)\n",
    "    n_iter=100,                        # Number of parameter settings that are sampled\n",
    "    cv=4                               # Number of folds for cross-validation\n",
    ")\n",
    "\n",
    "# Fit the RandomizedSearchCV object on the training data\n",
    "rf_random.fit(X_train, y_train)\n",
    "\n",
    "# Get the best parameters found by the RandomizedSearchCV\n",
    "best_params = rf_random.best_params_\n",
    "\n",
    "# Print the best parameters\n",
    "print(f'Best parameters: {best_params}')\n"
   ]
  },
  {
   "cell_type": "code",
   "execution_count": 13,
   "id": "b0ab1051",
   "metadata": {},
   "outputs": [
    {
     "data": {
      "text/plain": [
       "<AxesSubplot:ylabel='feature'>"
      ]
     },
     "execution_count": 13,
     "metadata": {},
     "output_type": "execute_result"
    },
    {
     "data": {
      "image/png": "[encoded data removed]",
      "text/plain": [
       "<Figure size 720x504 with 1 Axes>"
      ]
     },
     "metadata": {
      "needs_background": "light"
     },
     "output_type": "display_data"
    }
   ],
   "source": [
    "# This function calculates feature importances using a given model and a DataFrame of features.\n",
    "def feature_imp(df, model):\n",
    "    # Create an empty DataFrame with columns 'feature' and 'importance'.\n",
    "    fi = pd.DataFrame(columns=['feature', 'importance'])\n",
    "    \n",
    "    # Set the 'feature' column to be the column names of the input DataFrame.\n",
    "    fi[\"feature\"] = df.columns\n",
    "    \n",
    "    # Set the 'importance' column to be the feature importances from the model.\n",
    "    fi[\"importance\"] = model.best_estimator_.feature_importances_\n",
    "    \n",
    "    # Return the DataFrame sorted by importance in descending order.\n",
    "    return fi.sort_values(by=\"importance\", ascending=False)\n",
    "\n",
    "# Plot the feature importances in a horizontal bar chart.\n",
    "# The features will be on the y-axis and their importances on the x-axis.\n",
    "# The plot will have dimensions 10x7 inches.\n",
    "# The legend will be turned off.\n",
    "feature_imp(X_train, rf_random).plot('feature', 'importance', 'barh', figsize=(10,7), legend=False)\n"
   ]
  },
  {
   "cell_type": "code",
   "execution_count": 14,
   "id": "b88a6fbb",
   "metadata": {},
   "outputs": [],
   "source": [
    "# Import necessary libraries\n",
    "from tensorflow import keras\n",
    "import tensorflow as tf\n",
    "from tensorflow.keras import layers\n",
    "from keras.layers import Dropout\n",
    "\n",
    "# Define a sequential model\n",
    "model = tf.keras.Sequential([\n",
    "    # Add a dense layer with 20 units and ReLU activation function\n",
    "    layers.Dense(20, activation='relu', name='densel'),\n",
    "    \n",
    "    # Add a dropout layer with a dropout rate of 20%\n",
    "    Dropout(0.2),\n",
    "    \n",
    "    # Add another dense layer with 25 units and ReLU activation function\n",
    "    layers.Dense(25, activation='relu', name='dense2'),\n",
    "    \n",
    "    # Add another dense layer with 45 units and ReLU activation function\n",
    "    layers.Dense(45, activation='relu', name='dense3'),\n",
    "    \n",
    "    # Add a dropout layer with a dropout rate of 50%\n",
    "    Dropout(0.5),\n",
    "    \n",
    "    # Add another dense layer with 10 units and ReLU activation function\n",
    "    layers.Dense(10, activation='relu', name='dense4'),\n",
    "    \n",
    "    # Add a final dense layer with 2 units and sigmoid activation function\n",
    "    layers.Dense(2, activation='sigmoid', name='fc1'),\n",
    "])\n"
   ]
  },
  {
   "cell_type": "code",
   "execution_count": 15,
   "id": "0b484af0",
   "metadata": {},
   "outputs": [
    {
     "name": "stderr",
     "output_type": "stream",
     "text": [
      "WARNING:absl:`lr` is deprecated in Keras optimizer, please use `learning_rate` or use the legacy optimizer, e.g.,tf.keras.optimizers.legacy.Adam.\n"
     ]
    }
   ],
   "source": [
    "from tensorflow import keras  # Import the Keras library from TensorFlow\n",
    "\n",
    "model.compile(\n",
    "    loss=keras.losses.SparseCategoricalCrossentropy(from_logits=True),  # Define the loss function as SparseCategoricalCrossentropy\n",
    "    optimizer=keras.optimizers.Adam(lr=0.001),  # Define the optimizer as Adam with learning rate 0.001\n",
    "    metrics=['accuracy']  # Monitor the accuracy metric during training\n",
    ")\n"
   ]
  },
  {
   "cell_type": "code",
   "execution_count": 16,
   "id": "490e912f",
   "metadata": {},
   "outputs": [
    {
     "name": "stdout",
     "output_type": "stream",
     "text": [
      "Epoch 1/100\n"
     ]
    },
    {
     "name": "stderr",
     "output_type": "stream",
     "text": [
      "C:\\Users\\gargh\\anaconda3\\lib\\site-packages\\keras\\src\\backend.py:5729: UserWarning: \"`sparse_categorical_crossentropy` received `from_logits=True`, but the `output` argument was produced by a Softmax activation and thus does not represent logits. Was this intended?\n",
      "  output, from_logits = _get_logits(\n"
     ]
    },
    {
     "name": "stdout",
     "output_type": "stream",
     "text": [
      "8/8 - 1s - loss: 0.6951 - accuracy: 0.5826 - 881ms/epoch - 110ms/step\n",
      "Epoch 2/100\n",
      "8/8 - 0s - loss: 0.6975 - accuracy: 0.5579 - 27ms/epoch - 3ms/step\n",
      "Epoch 3/100\n",
      "8/8 - 0s - loss: 0.6827 - accuracy: 0.5620 - 7ms/epoch - 856us/step\n",
      "Epoch 4/100\n",
      "8/8 - 0s - loss: 0.6677 - accuracy: 0.5950 - 27ms/epoch - 3ms/step\n",
      "Epoch 5/100\n",
      "8/8 - 0s - loss: 0.6561 - accuracy: 0.6033 - 11ms/epoch - 1ms/step\n",
      "Epoch 6/100\n",
      "8/8 - 0s - loss: 0.6500 - accuracy: 0.6157 - 11ms/epoch - 1ms/step\n",
      "Epoch 7/100\n",
      "8/8 - 0s - loss: 0.6269 - accuracy: 0.6694 - 11ms/epoch - 1ms/step\n",
      "Epoch 8/100\n",
      "8/8 - 0s - loss: 0.6212 - accuracy: 0.6901 - 11ms/epoch - 1ms/step\n",
      "Epoch 9/100\n",
      "8/8 - 0s - loss: 0.5938 - accuracy: 0.7314 - 11ms/epoch - 1ms/step\n",
      "Epoch 10/100\n",
      "8/8 - 0s - loss: 0.5861 - accuracy: 0.7273 - 12ms/epoch - 1ms/step\n",
      "Epoch 11/100\n",
      "8/8 - 0s - loss: 0.5532 - accuracy: 0.7686 - 11ms/epoch - 1ms/step\n",
      "Epoch 12/100\n",
      "8/8 - 0s - loss: 0.5586 - accuracy: 0.7521 - 11ms/epoch - 1ms/step\n",
      "Epoch 13/100\n",
      "8/8 - 0s - loss: 0.4848 - accuracy: 0.7934 - 11ms/epoch - 1ms/step\n",
      "Epoch 14/100\n",
      "8/8 - 0s - loss: 0.4582 - accuracy: 0.8058 - 13ms/epoch - 2ms/step\n",
      "Epoch 15/100\n",
      "8/8 - 0s - loss: 0.4542 - accuracy: 0.8264 - 17ms/epoch - 2ms/step\n",
      "Epoch 16/100\n",
      "8/8 - 0s - loss: 0.4250 - accuracy: 0.8140 - 14ms/epoch - 2ms/step\n",
      "Epoch 17/100\n",
      "8/8 - 0s - loss: 0.3762 - accuracy: 0.8306 - 22ms/epoch - 3ms/step\n",
      "Epoch 18/100\n",
      "8/8 - 0s - loss: 0.4014 - accuracy: 0.8347 - 14ms/epoch - 2ms/step\n",
      "Epoch 19/100\n",
      "8/8 - 0s - loss: 0.4016 - accuracy: 0.8512 - 11ms/epoch - 1ms/step\n",
      "Epoch 20/100\n",
      "8/8 - 0s - loss: 0.3815 - accuracy: 0.8512 - 17ms/epoch - 2ms/step\n",
      "Epoch 21/100\n",
      "8/8 - 0s - loss: 0.4060 - accuracy: 0.8430 - 11ms/epoch - 1ms/step\n",
      "Epoch 22/100\n",
      "8/8 - 0s - loss: 0.3831 - accuracy: 0.8388 - 2ms/epoch - 220us/step\n",
      "Epoch 23/100\n",
      "8/8 - 0s - loss: 0.3885 - accuracy: 0.8554 - 18ms/epoch - 2ms/step\n",
      "Epoch 24/100\n",
      "8/8 - 0s - loss: 0.3413 - accuracy: 0.8512 - 16ms/epoch - 2ms/step\n",
      "Epoch 25/100\n",
      "8/8 - 0s - loss: 0.3587 - accuracy: 0.8347 - 22ms/epoch - 3ms/step\n",
      "Epoch 26/100\n",
      "8/8 - 0s - loss: 0.3251 - accuracy: 0.8719 - 11ms/epoch - 1ms/step\n",
      "Epoch 27/100\n",
      "8/8 - 0s - loss: 0.3369 - accuracy: 0.8595 - 15ms/epoch - 2ms/step\n",
      "Epoch 28/100\n",
      "8/8 - 0s - loss: 0.3176 - accuracy: 0.8802 - 0s/epoch - 0s/step\n",
      "Epoch 29/100\n",
      "8/8 - 0s - loss: 0.3096 - accuracy: 0.8926 - 368us/epoch - 46us/step\n",
      "Epoch 30/100\n",
      "8/8 - 0s - loss: 0.3289 - accuracy: 0.8636 - 12ms/epoch - 2ms/step\n",
      "Epoch 31/100\n",
      "8/8 - 0s - loss: 0.2860 - accuracy: 0.8926 - 5ms/epoch - 640us/step\n",
      "Epoch 32/100\n",
      "8/8 - 0s - loss: 0.3044 - accuracy: 0.8760 - 19ms/epoch - 2ms/step\n",
      "Epoch 33/100\n",
      "8/8 - 0s - loss: 0.3252 - accuracy: 0.8678 - 14ms/epoch - 2ms/step\n",
      "Epoch 34/100\n",
      "8/8 - 0s - loss: 0.2965 - accuracy: 0.8926 - 0s/epoch - 0s/step\n",
      "Epoch 35/100\n",
      "8/8 - 0s - loss: 0.3143 - accuracy: 0.8926 - 12ms/epoch - 1ms/step\n",
      "Epoch 36/100\n",
      "8/8 - 0s - loss: 0.3364 - accuracy: 0.8843 - 4ms/epoch - 552us/step\n",
      "Epoch 37/100\n",
      "8/8 - 0s - loss: 0.3088 - accuracy: 0.8926 - 16ms/epoch - 2ms/step\n",
      "Epoch 38/100\n",
      "8/8 - 0s - loss: 0.2795 - accuracy: 0.9008 - 18ms/epoch - 2ms/step\n",
      "Epoch 39/100\n",
      "8/8 - 0s - loss: 0.2664 - accuracy: 0.8843 - 19ms/epoch - 2ms/step\n",
      "Epoch 40/100\n",
      "8/8 - 0s - loss: 0.2907 - accuracy: 0.8967 - 11ms/epoch - 1ms/step\n",
      "Epoch 41/100\n",
      "8/8 - 0s - loss: 0.2944 - accuracy: 0.8802 - 15ms/epoch - 2ms/step\n",
      "Epoch 42/100\n",
      "8/8 - 0s - loss: 0.2642 - accuracy: 0.8926 - 3ms/epoch - 313us/step\n",
      "Epoch 43/100\n",
      "8/8 - 0s - loss: 0.2849 - accuracy: 0.8926 - 16ms/epoch - 2ms/step\n",
      "Epoch 44/100\n",
      "8/8 - 0s - loss: 0.2789 - accuracy: 0.9008 - 16ms/epoch - 2ms/step\n",
      "Epoch 45/100\n",
      "8/8 - 0s - loss: 0.2912 - accuracy: 0.8843 - 26ms/epoch - 3ms/step\n",
      "Epoch 46/100\n",
      "8/8 - 0s - loss: 0.2645 - accuracy: 0.9050 - 5ms/epoch - 648us/step\n",
      "Epoch 47/100\n",
      "8/8 - 0s - loss: 0.2968 - accuracy: 0.8967 - 19ms/epoch - 2ms/step\n",
      "Epoch 48/100\n",
      "8/8 - 0s - loss: 0.2360 - accuracy: 0.9132 - 14ms/epoch - 2ms/step\n",
      "Epoch 49/100\n",
      "8/8 - 0s - loss: 0.2397 - accuracy: 0.9256 - 22ms/epoch - 3ms/step\n",
      "Epoch 50/100\n",
      "8/8 - 0s - loss: 0.2387 - accuracy: 0.9380 - 15ms/epoch - 2ms/step\n",
      "Epoch 51/100\n",
      "8/8 - 0s - loss: 0.2333 - accuracy: 0.9132 - 15ms/epoch - 2ms/step\n",
      "Epoch 52/100\n",
      "8/8 - 0s - loss: 0.2538 - accuracy: 0.9132 - 0s/epoch - 0s/step\n",
      "Epoch 53/100\n",
      "8/8 - 0s - loss: 0.2375 - accuracy: 0.9050 - 16ms/epoch - 2ms/step\n",
      "Epoch 54/100\n",
      "8/8 - 0s - loss: 0.2663 - accuracy: 0.9174 - 15ms/epoch - 2ms/step\n",
      "Epoch 55/100\n",
      "8/8 - 0s - loss: 0.2213 - accuracy: 0.9215 - 14ms/epoch - 2ms/step\n",
      "Epoch 56/100\n",
      "8/8 - 0s - loss: 0.2102 - accuracy: 0.9091 - 16ms/epoch - 2ms/step\n",
      "Epoch 57/100\n",
      "8/8 - 0s - loss: 0.2507 - accuracy: 0.9132 - 15ms/epoch - 2ms/step\n",
      "Epoch 58/100\n",
      "8/8 - 0s - loss: 0.2271 - accuracy: 0.9132 - 15ms/epoch - 2ms/step\n",
      "Epoch 59/100\n",
      "8/8 - 0s - loss: 0.2298 - accuracy: 0.9256 - 13ms/epoch - 2ms/step\n",
      "Epoch 60/100\n",
      "8/8 - 0s - loss: 0.2592 - accuracy: 0.8967 - 12ms/epoch - 2ms/step\n",
      "Epoch 61/100\n",
      "8/8 - 0s - loss: 0.2480 - accuracy: 0.9091 - 12ms/epoch - 2ms/step\n",
      "Epoch 62/100\n",
      "8/8 - 0s - loss: 0.2274 - accuracy: 0.9174 - 14ms/epoch - 2ms/step\n",
      "Epoch 63/100\n",
      "8/8 - 0s - loss: 0.2462 - accuracy: 0.9008 - 13ms/epoch - 2ms/step\n",
      "Epoch 64/100\n",
      "8/8 - 0s - loss: 0.2554 - accuracy: 0.9008 - 11ms/epoch - 1ms/step\n",
      "Epoch 65/100\n",
      "8/8 - 0s - loss: 0.2458 - accuracy: 0.9174 - 17ms/epoch - 2ms/step\n",
      "Epoch 66/100\n",
      "8/8 - 0s - loss: 0.2172 - accuracy: 0.9050 - 13ms/epoch - 2ms/step\n",
      "Epoch 67/100\n",
      "8/8 - 0s - loss: 0.2511 - accuracy: 0.9008 - 12ms/epoch - 1ms/step\n",
      "Epoch 68/100\n",
      "8/8 - 0s - loss: 0.2077 - accuracy: 0.9215 - 13ms/epoch - 2ms/step\n",
      "Epoch 69/100\n",
      "8/8 - 0s - loss: 0.2034 - accuracy: 0.9256 - 13ms/epoch - 2ms/step\n",
      "Epoch 70/100\n",
      "8/8 - 0s - loss: 0.1714 - accuracy: 0.9504 - 11ms/epoch - 1ms/step\n",
      "Epoch 71/100\n",
      "8/8 - 0s - loss: 0.2153 - accuracy: 0.9256 - 12ms/epoch - 1ms/step\n",
      "Epoch 72/100\n",
      "8/8 - 0s - loss: 0.1805 - accuracy: 0.9380 - 12ms/epoch - 1ms/step\n",
      "Epoch 73/100\n",
      "8/8 - 0s - loss: 0.2097 - accuracy: 0.9298 - 12ms/epoch - 1ms/step\n",
      "Epoch 74/100\n",
      "8/8 - 0s - loss: 0.2089 - accuracy: 0.9256 - 12ms/epoch - 2ms/step\n",
      "Epoch 75/100\n",
      "8/8 - 0s - loss: 0.1895 - accuracy: 0.9380 - 11ms/epoch - 1ms/step\n",
      "Epoch 76/100\n",
      "8/8 - 0s - loss: 0.2065 - accuracy: 0.9256 - 12ms/epoch - 1ms/step\n",
      "Epoch 77/100\n",
      "8/8 - 0s - loss: 0.1727 - accuracy: 0.9256 - 10ms/epoch - 1ms/step\n",
      "Epoch 78/100\n",
      "8/8 - 0s - loss: 0.2116 - accuracy: 0.9215 - 11ms/epoch - 1ms/step\n",
      "Epoch 79/100\n",
      "8/8 - 0s - loss: 0.1999 - accuracy: 0.9380 - 12ms/epoch - 2ms/step\n",
      "Epoch 80/100\n",
      "8/8 - 0s - loss: 0.1892 - accuracy: 0.9545 - 14ms/epoch - 2ms/step\n",
      "Epoch 81/100\n",
      "8/8 - 0s - loss: 0.1715 - accuracy: 0.9339 - 13ms/epoch - 2ms/step\n",
      "Epoch 82/100\n",
      "8/8 - 0s - loss: 0.2008 - accuracy: 0.9380 - 14ms/epoch - 2ms/step\n",
      "Epoch 83/100\n",
      "8/8 - 0s - loss: 0.1988 - accuracy: 0.9339 - 13ms/epoch - 2ms/step\n",
      "Epoch 84/100\n",
      "8/8 - 0s - loss: 0.1808 - accuracy: 0.9339 - 11ms/epoch - 1ms/step\n",
      "Epoch 85/100\n",
      "8/8 - 0s - loss: 0.1817 - accuracy: 0.9421 - 3ms/epoch - 329us/step\n",
      "Epoch 86/100\n",
      "8/8 - 0s - loss: 0.1819 - accuracy: 0.9174 - 24ms/epoch - 3ms/step\n",
      "Epoch 87/100\n",
      "8/8 - 0s - loss: 0.1686 - accuracy: 0.9339 - 4ms/epoch - 500us/step\n",
      "Epoch 88/100\n",
      "8/8 - 0s - loss: 0.1767 - accuracy: 0.9380 - 18ms/epoch - 2ms/step\n",
      "Epoch 89/100\n",
      "8/8 - 0s - loss: 0.1811 - accuracy: 0.9380 - 15ms/epoch - 2ms/step\n",
      "Epoch 90/100\n",
      "8/8 - 0s - loss: 0.2025 - accuracy: 0.9256 - 0s/epoch - 0s/step\n",
      "Epoch 91/100\n",
      "8/8 - 0s - loss: 0.1684 - accuracy: 0.9256 - 12ms/epoch - 1ms/step\n",
      "Epoch 92/100\n",
      "8/8 - 0s - loss: 0.1858 - accuracy: 0.9339 - 5ms/epoch - 622us/step\n",
      "Epoch 93/100\n",
      "8/8 - 0s - loss: 0.1472 - accuracy: 0.9463 - 18ms/epoch - 2ms/step\n",
      "Epoch 94/100\n",
      "8/8 - 0s - loss: 0.1628 - accuracy: 0.9421 - 16ms/epoch - 2ms/step\n",
      "Epoch 95/100\n",
      "8/8 - 0s - loss: 0.1644 - accuracy: 0.9339 - 17ms/epoch - 2ms/step\n",
      "Epoch 96/100\n",
      "8/8 - 0s - loss: 0.1841 - accuracy: 0.9421 - 13ms/epoch - 2ms/step\n",
      "Epoch 97/100\n",
      "8/8 - 0s - loss: 0.1473 - accuracy: 0.9380 - 2ms/epoch - 198us/step\n",
      "Epoch 98/100\n",
      "8/8 - 0s - loss: 0.1564 - accuracy: 0.9339 - 18ms/epoch - 2ms/step\n",
      "Epoch 99/100\n",
      "8/8 - 0s - loss: 0.1691 - accuracy: 0.9380 - 16ms/epoch - 2ms/step\n",
      "Epoch 100/100\n",
      "8/8 - 0s - loss: 0.1991 - accuracy: 0.9132 - 19ms/epoch - 2ms/step\n",
      "2/2 - 0s - loss: 0.6820 - accuracy: 0.8361 - 133ms/epoch - 66ms/step\n"
     ]
    },
    {
     "name": "stderr",
     "output_type": "stream",
     "text": [
      "C:\\Users\\gargh\\anaconda3\\lib\\site-packages\\keras\\src\\backend.py:5729: UserWarning: \"`sparse_categorical_crossentropy` received `from_logits=True`, but the `output` argument was produced by a Softmax activation and thus does not represent logits. Was this intended?\n",
      "  output, from_logits = _get_logits(\n"
     ]
    },
    {
     "data": {
      "text/plain": [
       "[0.6820310354232788, 0.8360655903816223]"
      ]
     },
     "execution_count": 16,
     "metadata": {},
     "output_type": "execute_result"
    }
   ],
   "source": [
    "# Train the model using the training data (X_train and y_train)\n",
    "# Set the batch size to 32 and train for 100 epochs\n",
    "# Set verbose=2 to display progress during training\n",
    "model.fit(X_train, y_train, batch_size=32, epochs=100, verbose=2)\n",
    "\n",
    "# Evaluate the model using the test data (X_test and y_test)\n",
    "# Set the batch size to 32 for evaluation\n",
    "# Set verbose=2 to display progress during evaluation\n",
    "model.evaluate(X_test, y_test, batch_size=32, verbose=2)\n"
   ]
  },
  {
   "cell_type": "code",
   "execution_count": 17,
   "id": "92c2a19f",
   "metadata": {},
   "outputs": [],
   "source": [
    "# loss: 0.7482 - accuracy: 0.8525"
   ]
  },
  {
   "cell_type": "markdown",
   "id": "7d1a326f",
   "metadata": {},
   "source": [
    "As we can see that the best technique in our case will be K-nearest neighbors"
   ]
  },
  {
   "cell_type": "markdown",
   "id": "de36d34f",
   "metadata": {},
   "source": [
    "I created random data myself and now going to test knn on it"
   ]
  },
  {
   "cell_type": "code",
   "execution_count": 18,
   "id": "228af88c",
   "metadata": {
    "scrolled": true
   },
   "outputs": [
    {
     "name": "stdout",
     "output_type": "stream",
     "text": [
      "    age  sex  cp  trestbps  chol  fbs  restecg  thalach  exang  oldpeak  \\\n",
      "0    65    0   2       130   250    1        0      148      0      2.2   \n",
      "1    42    1   0       120   230    0        1      170      0      1.5   \n",
      "2    57    0   1       140   236    0        1      178      0      0.8   \n",
      "3    55    1   1       135   214    0        0      154      0      1.0   \n",
      "4    48    0   3       150   250    0        1      168      0      1.2   \n",
      "5    50    1   2       125   219    1        0      158      1      2.0   \n",
      "6    40    1   2       140   202    0        0      172      0      1.4   \n",
      "7    61    0   1       150   265    1        1      153      1      3.2   \n",
      "8    68    0   3       145   212    0        0      140      1      1.8   \n",
      "9    53    1   0       120   231    0        0      166      0      0.5   \n",
      "10   58    1   0       114   318    0        2      140      0      4.4   \n",
      "11   43    1   0       132   247    1        0      143      1      0.1   \n",
      "12   52    1   0       128   204    1        1      156      1      1.0   \n",
      "\n",
      "    slope  ca  thal  target  \n",
      "0       1   0     2       1  \n",
      "1       2   0     2       1  \n",
      "2       2   0     2       1  \n",
      "3       1   0     2       0  \n",
      "4       1   0     2       0  \n",
      "5       2   0     3       0  \n",
      "6       1   1     2       1  \n",
      "7       2   0     3       0  \n",
      "8       2   2     2       0  \n",
      "9       2   0     2       1  \n",
      "10      0   3     1       0  \n",
      "11      1   4     3       0  \n",
      "12      1   0     0       0  \n"
     ]
    }
   ],
   "source": [
    "# Define the data\n",
    "data = [\n",
    "    [65, 0, 2, 130, 250, 1, 0, 148, 0, 2.2, 1, 0, 2, 1],\n",
    "    [42, 1, 0, 120, 230, 0, 1, 170, 0, 1.5, 2, 0, 2, 1],\n",
    "    [57, 0, 1, 140, 236, 0, 1, 178, 0, 0.8, 2, 0, 2, 1],\n",
    "    [55, 1, 1, 135, 214, 0, 0, 154, 0, 1.0, 1, 0, 2, 0],\n",
    "    [48, 0, 3, 150, 250, 0, 1, 168, 0, 1.2, 1, 0, 2, 0],\n",
    "    [50, 1, 2, 125, 219, 1, 0, 158, 1, 2.0, 2, 0, 3, 0],\n",
    "    [40, 1, 2, 140, 202, 0, 0, 172, 0, 1.4, 1, 1, 2, 1],\n",
    "    [61, 0, 1, 150, 265, 1, 1, 153, 1, 3.2, 2, 0, 3, 0],\n",
    "    [68, 0, 3, 145, 212, 0, 0, 140, 1, 1.8, 2, 2, 2, 0],\n",
    "    [53, 1, 0, 120, 231, 0, 0, 166, 0, 0.5, 2, 0, 2, 1],\n",
    "    [58, 1, 0, 114, 318, 0, 2, 140, 0, 4.4, 0, 3, 1, 0],\n",
    "    [43, 1, 0, 132, 247, 1, 0, 143, 1, 0.1, 1, 4, 3, 0],\n",
    "    [52, 1, 0, 128, 204, 1, 1, 156, 1, 1, 1, 0, 0, 0]\n",
    "]\n",
    "\n",
    "# Define the column names\n",
    "column_names = [\n",
    "    'age', 'sex', 'cp', 'trestbps', 'chol', 'fbs', 'restecg',\n",
    "    'thalach', 'exang', 'oldpeak', 'slope', 'ca', 'thal','target'\n",
    "]\n",
    "\n",
    "# Create the DataFrame\n",
    "df = pd.DataFrame(data, columns=column_names)\n",
    "\n",
    "# Print the DataFrame\n",
    "print(df)\n"
   ]
  },
  {
   "cell_type": "code",
   "execution_count": 19,
   "id": "d0c28af6",
   "metadata": {},
   "outputs": [],
   "source": [
    "df = pd.get_dummies(df,columns = ['sex','cp','fbs','restecg','exang','slope','ca','thal'])\n",
    "standarScaler = StandardScaler()\n",
    "columns_to_scale = ['age','trestbps','chol','thalach','oldpeak']\n",
    "df[columns_to_scale] = standarScaler.fit_transform(df[columns_to_scale])"
   ]
  },
  {
   "cell_type": "code",
   "execution_count": 20,
   "id": "66927ebf",
   "metadata": {},
   "outputs": [],
   "source": [
    "df_y = df['target']\n",
    "df_X = df.drop(['target'],axis = 1)"
   ]
  },
  {
   "cell_type": "code",
   "execution_count": 21,
   "id": "1dab1587",
   "metadata": {},
   "outputs": [],
   "source": [
    "random_data_pred = knn_classifier.predict(df_X)"
   ]
  },
  {
   "cell_type": "code",
   "execution_count": 22,
   "id": "de522482",
   "metadata": {},
   "outputs": [
    {
     "data": {
      "text/plain": [
       "array([1, 1, 1, 1, 1, 1, 1, 0, 1, 1, 0, 0, 0], dtype=int64)"
      ]
     },
     "execution_count": 22,
     "metadata": {},
     "output_type": "execute_result"
    }
   ],
   "source": [
    "random_data_pred"
   ]
  },
  {
   "cell_type": "code",
   "execution_count": 23,
   "id": "51d4eba2",
   "metadata": {},
   "outputs": [
    {
     "name": "stdout",
     "output_type": "stream",
     "text": [
      "[1, 1, 1, 1, 1, 1, 1, 0, 1, 1, 0, 0, 0]\n",
      "[1 1 1 0 0 0 1 0 0 1 0 0 0]\n"
     ]
    }
   ],
   "source": [
    "print(random_data_pred.tolist())\n",
    "print(df_y.values)"
   ]
  },
  {
   "cell_type": "code",
   "execution_count": 24,
   "id": "887e2ef5",
   "metadata": {},
   "outputs": [
    {
     "name": "stdout",
     "output_type": "stream",
     "text": [
      "Accurace = 0.6923076923076923\n"
     ]
    }
   ],
   "source": [
    "print(f'Accurace = {np.sum(random_data_pred == df_y)/len(df_y)}')"
   ]
  },
  {
   "cell_type": "code",
   "execution_count": null,
   "id": "cec0a478",
   "metadata": {},
   "outputs": [],
   "source": []
  }
 ],
 "metadata": {
  "kernelspec": {
   "display_name": "Python 3 (ipykernel)",
   "language": "python",
   "name": "python3"
  },
  "language_info": {
   "codemirror_mode": {
    "name": "ipython",
    "version": 3
   },
   "file_extension": ".py",
   "mimetype": "text/x-python",
   "name": "python",
   "nbconvert_exporter": "python",
   "pygments_lexer": "ipython3",
   "version": "3.9.12"
  }
 },
 "nbformat": 4,
 "nbformat_minor": 5
}
